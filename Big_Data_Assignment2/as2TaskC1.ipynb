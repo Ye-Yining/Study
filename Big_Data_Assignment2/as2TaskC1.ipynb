{
 "cells": [
  {
   "cell_type": "markdown",
   "metadata": {},
   "source": [
    "## A python stream generating application"
   ]
  },
  {
   "cell_type": "code",
   "execution_count": 1,
   "metadata": {},
   "outputs": [
    {
     "name": "stdout",
     "output_type": "stream",
     "text": [
      "exit(0)\n",
      "exit(0)\n"
     ]
    },
    {
     "name": "stderr",
     "output_type": "stream",
     "text": [
      "Process Process-2:\n",
      "Process Process-1:\n",
      "Traceback (most recent call last):\n",
      "Traceback (most recent call last):\n",
      "  File \"/home/zby0902/anaconda3/lib/python3.6/multiprocessing/process.py\", line 258, in _bootstrap\n",
      "    self.run()\n",
      "  File \"/home/zby0902/anaconda3/lib/python3.6/multiprocessing/process.py\", line 258, in _bootstrap\n",
      "    self.run()\n",
      "  File \"/home/zby0902/anaconda3/lib/python3.6/multiprocessing/process.py\", line 93, in run\n",
      "    self._target(*self._args, **self._kwargs)\n",
      "  File \"/home/zby0902/anaconda3/lib/python3.6/multiprocessing/process.py\", line 93, in run\n",
      "    self._target(*self._args, **self._kwargs)\n",
      "  File \"<ipython-input-1-fc157d1482f2>\", line 62, in generate_stream\n",
      "    pass\n",
      "  File \"<ipython-input-1-fc157d1482f2>\", line 62, in generate_stream\n",
      "    pass\n",
      "KeyboardInterrupt\n",
      "KeyboardInterrupt\n"
     ]
    }
   ],
   "source": [
    "import time\n",
    "import csv\n",
    "import socket\n",
    "from multiprocessing import Process\n",
    "import random, string\n",
    "import json\n",
    "\n",
    "with open('./ClimateData-Part2.csv','r') as c2, open ('./FireData-Part2.csv','r') as f2:\n",
    "    climate_reader = csv.reader(c2)\n",
    "    fire_reader  = csv.reader(f2)\n",
    "    climate = []\n",
    "    fire  = []\n",
    "    for row in climate_reader:\n",
    "        climate.append(','.join(e.strip() for e in row) + '\\n ')\n",
    "    for line in fire_reader:\n",
    "        line.append(''.join(random.choices(string.ascii_letters + string.digits, k=12)))\n",
    "        fire.append(','.join(e.strip() for e in line) + '\\n')\n",
    "climate =  climate[1:]\n",
    "fire = fire[1:]  \n",
    "\n",
    "def generator(dataset):\n",
    "    for e in dataset:\n",
    "        yield e\n",
    "climate_genrator = generator(climate)\n",
    "fire_genrator = generator(fire)\n",
    "def generate_stream(dataset,port):\n",
    "    \"\"\"\n",
    "    The method that generate a stream sending to socket of the computer from a given dataset\n",
    "    -------\n",
    "    Parameters:\n",
    "    dataset ---the generator object of the dataset\n",
    "    port --- the usable port that the data stream can be sent through\n",
    "    \"\"\" \n",
    "    host = 'localhost'\n",
    "\n",
    "    s = socket.socket(socket.AF_INET, socket.SOCK_STREAM)\n",
    "\n",
    "    s.bind((host, port))\n",
    "    s.listen(1)\n",
    "    i = 0\n",
    "    \n",
    "    while True:\n",
    "        try:\n",
    "            conn, addr = s.accept()\n",
    "            print(\"exit({})\".format(i))\n",
    "            i += 1\n",
    "            while True:\n",
    "                if dataset == climate_genrator:\n",
    "                    try:#if the dataset is climate, we send one record and then pause 1 second\n",
    "                        conn.send(next(dataset).encode())\n",
    "                        time.sleep(1)\n",
    "                    except StopIteration:\n",
    "                        return\n",
    "                elif dataset == fire_genrator:\n",
    "                    try:#if the dataset is fire, we send five records and then pause 1 second\n",
    "                        for i in range(5):\n",
    "                            conn.send(next(dataset).encode())\n",
    "                        time.sleep(1)\n",
    "                    except StopIteration:\n",
    "                        return                    \n",
    "        except socket.error: \n",
    "            pass\n",
    "        finally:\n",
    "            conn.close()\n",
    "            s.close()\n",
    "    conn.close()\n",
    "    s.close()\n",
    "    return\n",
    "                \n",
    "\n",
    "if __name__ == '__main__':\n",
    "    #here we must open the two sockets using mp so that it will be openn at the same time\n",
    "    #otherwise the other port cannot be connected to pyspark DStream\n",
    "    p1 = Process(target=generate_stream, args=(climate_genrator,9999))\n",
    "    p2 = Process(target=generate_stream, args=(fire_genrator,8080))\n",
    "    p1.start()\n",
    "    p2.start()"
   ]
  }
 ],
 "metadata": {
  "kernelspec": {
   "display_name": "Python [conda root]",
   "language": "python",
   "name": "conda-root-py"
  },
  "language_info": {
   "codemirror_mode": {
    "name": "ipython",
    "version": 3
   },
   "file_extension": ".py",
   "mimetype": "text/x-python",
   "name": "python",
   "nbconvert_exporter": "python",
   "pygments_lexer": "ipython3",
   "version": "3.6.4"
  }
 },
 "nbformat": 4,
 "nbformat_minor": 2
}
